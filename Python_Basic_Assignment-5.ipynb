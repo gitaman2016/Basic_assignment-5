{
 "cells": [
  {
   "cell_type": "raw",
   "id": "c747561e",
   "metadata": {},
   "source": [
    "1. What does an empty dictionary's code look like?\n",
    "ans:Dictionary"
   ]
  },
  {
   "cell_type": "code",
   "execution_count": 1,
   "id": "d3f72bf1",
   "metadata": {},
   "outputs": [
    {
     "name": "stdout",
     "output_type": "stream",
     "text": [
      "<class 'dict'>\n"
     ]
    }
   ],
   "source": [
    "l = {}\n",
    "print(type(l))"
   ]
  },
  {
   "cell_type": "raw",
   "id": "075b1e18",
   "metadata": {},
   "source": [
    "2. What is the value of a dictionary value with the key 'foo' and the value 42?\n",
    "ans:"
   ]
  },
  {
   "cell_type": "code",
   "execution_count": 6,
   "id": "0698c2fc",
   "metadata": {},
   "outputs": [],
   "source": [
    "l = {'foo':42}"
   ]
  },
  {
   "cell_type": "code",
   "execution_count": 8,
   "id": "b2ff019b",
   "metadata": {},
   "outputs": [
    {
     "data": {
      "text/plain": [
       "42"
      ]
     },
     "execution_count": 8,
     "metadata": {},
     "output_type": "execute_result"
    }
   ],
   "source": [
    "l['foo']"
   ]
  },
  {
   "cell_type": "raw",
   "id": "1ae54ccb",
   "metadata": {},
   "source": [
    "3. What is the most significant distinction between a dictionary and a list?\n",
    "ans:In dictionary curly bracket with no value is used but in list big bracket       is used."
   ]
  },
  {
   "cell_type": "raw",
   "id": "e2fe2a4f",
   "metadata": {},
   "source": [
    "4. What happens if you try to access spam['foo'] if spam is {'bar': 100}?\n",
    "ans:This will give me keyError "
   ]
  },
  {
   "cell_type": "code",
   "execution_count": 9,
   "id": "735f095a",
   "metadata": {},
   "outputs": [],
   "source": [
    "spam = {'bar':100}"
   ]
  },
  {
   "cell_type": "code",
   "execution_count": 10,
   "id": "d5b26b10",
   "metadata": {},
   "outputs": [
    {
     "ename": "KeyError",
     "evalue": "'foo'",
     "output_type": "error",
     "traceback": [
      "\u001b[1;31m---------------------------------------------------------------------------\u001b[0m",
      "\u001b[1;31mKeyError\u001b[0m                                  Traceback (most recent call last)",
      "\u001b[1;32m<ipython-input-10-9b5a94d1de8d>\u001b[0m in \u001b[0;36m<module>\u001b[1;34m\u001b[0m\n\u001b[1;32m----> 1\u001b[1;33m \u001b[0mspam\u001b[0m\u001b[1;33m[\u001b[0m\u001b[1;34m'foo'\u001b[0m\u001b[1;33m]\u001b[0m\u001b[1;33m\u001b[0m\u001b[1;33m\u001b[0m\u001b[0m\n\u001b[0m",
      "\u001b[1;31mKeyError\u001b[0m: 'foo'"
     ]
    }
   ],
   "source": [
    "spam['foo']"
   ]
  },
  {
   "cell_type": "raw",
   "id": "7b532113",
   "metadata": {},
   "source": [
    "5. If a dictionary is stored in spam, what is the difference between the          expressions 'cat' in spam and 'cat' in spam.keys()?"
   ]
  },
  {
   "cell_type": "raw",
   "id": "a2f5534c",
   "metadata": {},
   "source": [
    "ans: cat in spam will give dictionary of keys-values pair but spam.keys will        give list of keys of spam.\n"
   ]
  },
  {
   "cell_type": "raw",
   "id": "e2fdfa38",
   "metadata": {},
   "source": [
    "6. If a dictionary is stored in spam, what is the difference between the expressions 'cat' in spam and 'cat' in spam.values()?\n",
    "ans:cat in spam will gives dictionary od keys-values pair but spam.values will     give list of value of spam"
   ]
  },
  {
   "cell_type": "raw",
   "id": "8601fa7a",
   "metadata": {},
   "source": [
    "7. What is a shortcut for the following code?\n",
    "if 'color' not in spam:\n",
    "spam['color'] = 'black'"
   ]
  },
  {
   "cell_type": "raw",
   "id": "21c3b06c",
   "metadata": {},
   "source": [
    "#if 'color' not in spam:\n",
    "if(spam!='color'):\n",
    "#spam['color'] = 'black'\n",
    "spam= {'color':'black'}\n"
   ]
  },
  {
   "cell_type": "raw",
   "id": "fe52b0ea",
   "metadata": {},
   "source": [
    "8. How do you \"pretty print\" dictionary values using which module and function?\n",
    "ans:module=list,function= recall"
   ]
  },
  {
   "cell_type": "code",
   "execution_count": 8,
   "id": "68f8a3fe",
   "metadata": {},
   "outputs": [],
   "source": [
    "l = {'a':'aman','b':'jdbeg','c':'sdugd'}"
   ]
  },
  {
   "cell_type": "code",
   "execution_count": 10,
   "id": "f1a4b334",
   "metadata": {},
   "outputs": [
    {
     "data": {
      "text/plain": [
       "'aman'"
      ]
     },
     "execution_count": 10,
     "metadata": {},
     "output_type": "execute_result"
    }
   ],
   "source": [
    "l['a']"
   ]
  },
  {
   "cell_type": "code",
   "execution_count": null,
   "id": "1dac7141",
   "metadata": {},
   "outputs": [],
   "source": []
  }
 ],
 "metadata": {
  "kernelspec": {
   "display_name": "Python 3",
   "language": "python",
   "name": "python3"
  },
  "language_info": {
   "codemirror_mode": {
    "name": "ipython",
    "version": 3
   },
   "file_extension": ".py",
   "mimetype": "text/x-python",
   "name": "python",
   "nbconvert_exporter": "python",
   "pygments_lexer": "ipython3",
   "version": "3.8.8"
  }
 },
 "nbformat": 4,
 "nbformat_minor": 5
}
